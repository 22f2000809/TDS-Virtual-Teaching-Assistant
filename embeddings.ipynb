{
 "cells": [
  {
   "cell_type": "code",
   "execution_count": 1,
   "id": "77cb5e82",
   "metadata": {},
   "outputs": [],
   "source": [
    "import getpass\n",
    "import os\n",
    "\n",
    "os.environ[\"GROQ_API_KEY\"] = getpass.getpass(\"Enter your GROQ API key: \")"
   ]
  },
  {
   "cell_type": "code",
   "execution_count": 2,
   "id": "23e4e604",
   "metadata": {},
   "outputs": [],
   "source": [
    "!pip install -qU langchain-groq"
   ]
  },
  {
   "cell_type": "code",
   "execution_count": 3,
   "id": "8e3f9165",
   "metadata": {},
   "outputs": [],
   "source": [
    "!pip install -qU langchain-huggingface"
   ]
  },
  {
   "cell_type": "code",
   "execution_count": 4,
   "id": "72840d3f",
   "metadata": {},
   "outputs": [],
   "source": [
    "!pip install -qU langchain-chroma"
   ]
  },
  {
   "cell_type": "code",
   "execution_count": 10,
   "id": "ea40d4c6",
   "metadata": {},
   "outputs": [],
   "source": [
    "!pip install -qU langchain_community jq "
   ]
  },
  {
   "cell_type": "code",
   "execution_count": 16,
   "id": "860eb315",
   "metadata": {},
   "outputs": [],
   "source": [
    "!pip install -qU langchain_community unstructured"
   ]
  },
  {
   "cell_type": "code",
   "execution_count": 17,
   "id": "f4587d8b",
   "metadata": {},
   "outputs": [],
   "source": [
    "from langchain_groq import ChatGroq\n",
    "\n",
    "llm = ChatGroq(\n",
    "    model=\"llama-3.1-8b-instant\",\n",
    "    temperature=0.7,\n",
    "    max_tokens=None,\n",
    "    timeout=None,\n",
    "    max_retries=2\n",
    ")"
   ]
  },
  {
   "cell_type": "code",
   "execution_count": 18,
   "id": "74043740",
   "metadata": {},
   "outputs": [],
   "source": [
    "from langchain_huggingface import HuggingFaceEmbeddings\n",
    "\n",
    "embeddings = HuggingFaceEmbeddings(model_name=\"sentence-transformers/all-mpnet-base-v2\")"
   ]
  },
  {
   "cell_type": "code",
   "execution_count": 19,
   "id": "539ac0a9",
   "metadata": {},
   "outputs": [],
   "source": [
    "from langchain_chroma import Chroma\n",
    "\n",
    "vector_store = Chroma(\n",
    "    collection_name=\"example_collection\",\n",
    "    embedding_function=embeddings,\n",
    "    persist_directory=\"C:\\\\Users\\\\bhara\\\\OneDrive\\\\Desktop\\\\Pro_1\",  # Where to save data locally, remove if not necessary\n",
    ")"
   ]
  },
  {
   "cell_type": "code",
   "execution_count": null,
   "id": "c4329c49",
   "metadata": {},
   "outputs": [
    {
     "data": {
      "text/plain": [
       "882"
      ]
     },
     "execution_count": 31,
     "metadata": {},
     "output_type": "execute_result"
    }
   ],
   "source": [
    "import glob\n",
    "from langchain_community.document_loaders import UnstructuredMarkdownLoader, JSONLoader\n",
    "\n",
    "# --- Load all Markdown files ---\n",
    "markdown_files = glob.glob(\"./markdown_files/*.md\")\n",
    "all_documents = []\n",
    "\n",
    "for file_path in markdown_files:\n",
    "    loader = UnstructuredMarkdownLoader(\n",
    "        file_path=file_path,\n",
    "        metadata={\"source\": file_path},  # Include filename as metadata\n",
    "        mode=\"single\",\n",
    "        strategy=\"fast\",\n",
    "    )\n",
    "    documents = loader.load()\n",
    "    all_documents.extend(documents)\n",
    "\n",
    "json_loader = JSONLoader(\n",
    "    file_path=\"discourse_posts.json\",\n",
    "    jq_schema=\".[].content\",  # Adjust jq path to match your JSON structure\n",
    "    text_content=False,\n",
    ")\n",
    "\n",
    "json_documents = json_loader.load()\n",
    "all_documents.extend(json_documents)\n",
    "\n",
    "# Now, `all_documents` contains both Markdown and JSON loaded data\n"
   ]
  },
  {
   "cell_type": "code",
   "execution_count": 24,
   "id": "960ab0db",
   "metadata": {},
   "outputs": [],
   "source": [
    "from langchain_text_splitters import RecursiveCharacterTextSplitter\n",
    "text_splitter = RecursiveCharacterTextSplitter(chunk_size=1000, chunk_overlap=200)\n",
    "all_splits = text_splitter.split_documents(all_documents)"
   ]
  },
  {
   "cell_type": "code",
   "execution_count": 25,
   "id": "6e8d6e23",
   "metadata": {},
   "outputs": [],
   "source": [
    "_ = vector_store.add_documents(documents=all_splits)"
   ]
  },
  {
   "cell_type": "code",
   "execution_count": 26,
   "id": "3599af1e",
   "metadata": {},
   "outputs": [
    {
     "name": "stderr",
     "output_type": "stream",
     "text": [
      "c:\\Users\\bhara\\anaconda3\\Lib\\site-packages\\langsmith\\client.py:272: LangSmithMissingAPIKeyWarning: API key must be provided when using hosted LangSmith API\n",
      "  warnings.warn(\n"
     ]
    }
   ],
   "source": [
    "from langchain import hub\n",
    "prompt = hub.pull(\"rlm/rag-prompt\")"
   ]
  },
  {
   "cell_type": "code",
   "execution_count": 27,
   "id": "90f1b15a",
   "metadata": {},
   "outputs": [],
   "source": [
    "# Define application steps\n",
    "from langgraph.graph import START, StateGraph\n",
    "from typing import List, TypedDict\n",
    "from langchain_core.documents import Document\n",
    "\n",
    "# Define state for application\n",
    "class State(TypedDict):\n",
    "    question: str\n",
    "    context: List[Document]\n",
    "    answer: str\n",
    "def retrieve(state: State):\n",
    "    retrieved_docs = vector_store.similarity_search(state[\"question\"])\n",
    "    return {\"context\": retrieved_docs}\n",
    "\n",
    "\n",
    "def generate(state: State):\n",
    "    docs_content = \"\\n\\n\".join(doc.page_content for doc in state[\"context\"])\n",
    "    messages = prompt.invoke({\"question\": state[\"question\"], \"context\": docs_content})\n",
    "    response = llm.invoke(messages)\n",
    "    return {\"answer\": response.content}\n",
    "\n",
    "\n",
    "# Compile application and test\n",
    "graph_builder = StateGraph(State).add_sequence([retrieve, generate])\n",
    "graph_builder.add_edge(START, \"retrieve\")\n",
    "graph = graph_builder.compile()"
   ]
  },
  {
   "cell_type": "code",
   "execution_count": 34,
   "id": "33ee6c56",
   "metadata": {},
   "outputs": [
    {
     "name": "stdout",
     "output_type": "stream",
     "text": [
      "You should use the OpenAI API directly for this question, as it requires the 'gpt-3.5-turbo-0125' model which is not supported by the AI proxy provided by Anand sir. Using the OpenAI API is the best option for this specific question.\n"
     ]
    }
   ],
   "source": [
    "response = graph.invoke({\"question\": \"The question asks to use gpt-3.5-turbo-0125 model but the ai-proxy provided by Anand sir only supports gpt-4o-mini. So should we just use gpt-4o-mini or use the OpenAI API for gpt3.5 turbo?\"})\n",
    "print(response[\"answer\"])"
   ]
  }
 ],
 "metadata": {
  "kernelspec": {
   "display_name": "base",
   "language": "python",
   "name": "python3"
  },
  "language_info": {
   "codemirror_mode": {
    "name": "ipython",
    "version": 3
   },
   "file_extension": ".py",
   "mimetype": "text/x-python",
   "name": "python",
   "nbconvert_exporter": "python",
   "pygments_lexer": "ipython3",
   "version": "3.11.5"
  }
 },
 "nbformat": 4,
 "nbformat_minor": 5
}
